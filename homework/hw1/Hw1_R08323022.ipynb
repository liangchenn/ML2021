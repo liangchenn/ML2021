{
  "nbformat": 4,
  "nbformat_minor": 0,
  "metadata": {
    "colab": {
      "name": "Hw1_R08323022.ipynb",
      "provenance": [],
      "collapsed_sections": []
    },
    "kernelspec": {
      "name": "python3",
      "display_name": "Python 3"
    },
    "language_info": {
      "name": "python"
    },
    "accelerator": "GPU"
  },
  "cells": [
    {
      "cell_type": "markdown",
      "metadata": {
        "id": "RwKRiEF7alZf"
      },
      "source": [
        "# ML2021spring HW\\#1\n",
        "\n",
        "- Author : Liang-Cheng Chen 陳亮丞\n",
        "- ID     : r08323022\n",
        "- Email  : <r08323022@ntu.edu.tw>\n"
      ]
    },
    {
      "cell_type": "markdown",
      "metadata": {
        "id": "3w2lRKvlUBIM"
      },
      "source": [
        "## README\n",
        "\n",
        "### References\n",
        "\n",
        "I refer to the sample code provided by the course TA, Heng-Jui Chang.\n",
        "(the Colab notebook link is [here](https://colab.research.google.com/github/ga642381/ML2021-Spring/blob/main/HW01/HW01.ipynb#scrollTo=k-onQd4JNA5H))\n",
        "\n",
        "Basically I leverage the same `plot_learning_curve`, `plot_pred`, and `save_predict` function setups used in the sample code.\n",
        "\n",
        "Also, I keep the same `target_only` option as the sample code when building `Dataset` and `DataLoader` objects. This option provides convienience when conducting experiments on features selection. (e.g. LASSO and Ridge regression)\n",
        "\n",
        "### Feature\n",
        "I tried different features for training.\n",
        "\n",
        "In the final version, I use the columns that have higher correlation with the target (`cor > 0.75`).\n",
        "\n",
        "I provide the details and result in Appendix.\n",
        "\n",
        "### Model\n",
        "I build a neural network which has one hidden layer and uses 32 neurons.\n",
        "\n",
        "I choose `Adam` for optimizer and use `MSELoss` with L2 regularization. (I also include the L1 regularization for experiments).\n",
        "\n",
        "The other model details and building codes will be provided in following chunks."
      ]
    },
    {
      "cell_type": "markdown",
      "metadata": {
        "id": "P5U696ubbTkv"
      },
      "source": [
        "## Modules\n",
        "\n",
        "\n",
        "\n"
      ]
    },
    {
      "cell_type": "code",
      "metadata": {
        "id": "OsjRgA51bTM_"
      },
      "source": [
        "# PyTorch\n",
        "import torch\n",
        "import torch.nn as nn\n",
        "from torch.utils.data import Dataset, DataLoader\n",
        "\n",
        "# For data preprocess\n",
        "import numpy as np\n",
        "import csv\n",
        "import os\n",
        "\n",
        "# For plotting\n",
        "import matplotlib.pyplot as plt\n",
        "from matplotlib.pyplot import figure\n",
        "\n",
        "# Fix random seed for reproduction\n",
        "myseed = 123  \n",
        "torch.backends.cudnn.deterministic = True\n",
        "torch.backends.cudnn.benchmark = False\n",
        "np.random.seed(myseed)\n",
        "torch.manual_seed(myseed)\n",
        "if torch.cuda.is_available():\n",
        "    torch.cuda.manual_seed_all(myseed)"
      ],
      "execution_count": 49,
      "outputs": []
    },
    {
      "cell_type": "markdown",
      "metadata": {
        "id": "NCVVIJTUbJUU"
      },
      "source": [
        "## Download Data"
      ]
    },
    {
      "cell_type": "code",
      "metadata": {
        "colab": {
          "base_uri": "https://localhost:8080/"
        },
        "id": "9HgwoHuVa5MP",
        "outputId": "340d876d-9674-444f-9989-c6871374e64e"
      },
      "source": [
        "!gdown --id '19CCyCgJrUxtvgZF53vnctJiOJ23T5mqF' --output covid.train.csv\n",
        "!gdown --id '1CE240jLm2npU-tdz81-oVKEF3T2yfT1O' --output covid.test.csv"
      ],
      "execution_count": 50,
      "outputs": [
        {
          "output_type": "stream",
          "text": [
            "Downloading...\n",
            "From: https://drive.google.com/uc?id=19CCyCgJrUxtvgZF53vnctJiOJ23T5mqF\n",
            "To: /content/covid.train.csv\n",
            "100% 2.00M/2.00M [00:00<00:00, 31.5MB/s]\n",
            "Downloading...\n",
            "From: https://drive.google.com/uc?id=1CE240jLm2npU-tdz81-oVKEF3T2yfT1O\n",
            "To: /content/covid.test.csv\n",
            "100% 651k/651k [00:00<00:00, 10.2MB/s]\n"
          ],
          "name": "stdout"
        }
      ]
    },
    {
      "cell_type": "markdown",
      "metadata": {
        "id": "7r70NXync-5E"
      },
      "source": [
        "## Build Dataset and DataLoader"
      ]
    },
    {
      "cell_type": "markdown",
      "metadata": {
        "id": "2EOk9Ra7dKkg"
      },
      "source": [
        "### Dataset\n",
        "I follow the sample code setups to build the `Dataset` and `DataLoader`. However, I use different way to split the train/validation data.\n",
        "\n",
        "Originally the data was split by simply calculate the remainder (mod 10). Here I first shuffle the order of the rows to avoid potential order pattern.\n",
        "\n",
        "\n",
        "The `Covid19Dataset` class will help:\n",
        "\n",
        "- read `.csv` file\n",
        "- features selection\n",
        "- train/validate split with shuffle\n"
      ]
    },
    {
      "cell_type": "code",
      "metadata": {
        "id": "Wevmd3KvdEAs"
      },
      "source": [
        "class Covid19Dataset(Dataset):\n",
        "\n",
        "    def __init__(self, path, mode='train', target_only=False):\n",
        "\n",
        "        self.mode = mode\n",
        "\n",
        "        with open(path, 'r') as fin:\n",
        "            data = list(csv.reader(fin))\n",
        "\n",
        "            # we delete first row: column names, and the first column: id\n",
        "            # convert str to num\n",
        "            data = np.array(data[1:])[:, 1:].astype(float)\n",
        "\n",
        "        \n",
        "        # Features Selection\n",
        "\n",
        "        if target_only == False:\n",
        "            # use full columns as features\n",
        "            fts = list(range(93))\n",
        "            \n",
        "        else:\n",
        "            # self-selected features\n",
        "            # here I choose columns that have high correlation with target\n",
        "\n",
        "            states_cols = list(range(40))\n",
        "            # test_positive = [57, 75]\n",
        "            high_cols = [40, 41, 42, 43, 57, 58, 59, 60, 61, 75, 76, 77, 78, 79]\n",
        "            fts = states_cols + high_cols\n",
        "\n",
        "        \n",
        "        if mode == 'test':\n",
        "            # Testing Data\n",
        "            # shape: (893, 93), without day 3 positive cases\n",
        "            data = data[:, fts]\n",
        "            self.data = torch.FloatTensor(data)\n",
        "\n",
        "        else:\n",
        "            # Training and Validation Data\n",
        "            # (2700, 94)\n",
        "\n",
        "            # TODO: How to cope with data order problem ?\n",
        "            #  (1) Random draw from original data\n",
        "            #  (2) Shuffle\n",
        "\n",
        "            # First try (2) shuffle\n",
        "            idxx = np.arange(len(data))\n",
        "            np.random.shuffle(idxx)\n",
        "            data = data[idxx]\n",
        "\n",
        "\n",
        "            target = data[:, -1]\n",
        "            data   = data[:, fts]\n",
        "\n",
        "\n",
        "            if mode == 'train':\n",
        "                index = [i for i in range(len(data)) if i % 10 != 3]\n",
        "            elif mode == 'valid':\n",
        "                index = [i for i in range(len(data)) if i % 10 == 3] \n",
        "\n",
        "            self.data   = torch.FloatTensor(data[index])\n",
        "            self.target = torch.FloatTensor(target[index])\n",
        "\n",
        "\n",
        "        self.dim = self.data.shape[1]\n",
        "        \n",
        "        print(f\"Finished reading {self.mode:5s} set, ({len(self.data):5d} obs., {self.dim:3d} cols)\")\n",
        "\n",
        "    \n",
        "    def __getitem__(self, index):\n",
        "\n",
        "        if self.mode in ['train', 'valid']:\n",
        "            return self.data[index], self.target[index]\n",
        "\n",
        "        else:\n",
        "            return self.data[index]\n",
        "\n",
        "\n",
        "    def __len__(self):\n",
        "\n",
        "        return len(self.data)\n"
      ],
      "execution_count": 51,
      "outputs": []
    },
    {
      "cell_type": "code",
      "metadata": {
        "colab": {
          "base_uri": "https://localhost:8080/"
        },
        "id": "6M_ccBcD4wRc",
        "outputId": "3c4db91d-3a09-4c18-b587-d588610d66eb"
      },
      "source": [
        "# test for Dataset object\n",
        "tester = Covid19Dataset(path='./covid.train.csv', mode='train')\n",
        "tester2 = Covid19Dataset('./covid.test.csv', 'test')"
      ],
      "execution_count": 52,
      "outputs": [
        {
          "output_type": "stream",
          "text": [
            "Finished reading train set, ( 2430 obs.,  93 cols)\n",
            "Finished reading test  set, (  893 obs.,  93 cols)\n"
          ],
          "name": "stdout"
        }
      ]
    },
    {
      "cell_type": "markdown",
      "metadata": {
        "id": "CCZOV_6m55cf"
      },
      "source": [
        "### DataLoader\n",
        "\n",
        "Dataloader helps load data with self-assigned:\n",
        "- `batch_size`\n",
        "- `shuffle` \n"
      ]
    },
    {
      "cell_type": "code",
      "metadata": {
        "id": "KUl6uvld4w-N"
      },
      "source": [
        "def load(path, mode, batch_size, target_only=False):\n",
        "    dataset = Covid19Dataset(path=path, mode=mode, target_only=target_only)\n",
        "    \n",
        "    dataloader = DataLoader(\n",
        "        dataset, batch_size, shuffle= (mode == 'train')\n",
        "    )\n",
        "    return dataloader"
      ],
      "execution_count": 53,
      "outputs": []
    },
    {
      "cell_type": "code",
      "metadata": {
        "colab": {
          "base_uri": "https://localhost:8080/"
        },
        "id": "eksZz5TlFXE2",
        "outputId": "765ae094-5084-4260-9aab-42b71bdf2611"
      },
      "source": [
        "# test for dataloader\n",
        "tmp = load('./covid.train.csv', 'train', 128)\n",
        "tmp.dataset.data.shape"
      ],
      "execution_count": 54,
      "outputs": [
        {
          "output_type": "stream",
          "text": [
            "Finished reading train set, ( 2430 obs.,  93 cols)\n"
          ],
          "name": "stdout"
        },
        {
          "output_type": "execute_result",
          "data": {
            "text/plain": [
              "torch.Size([2430, 93])"
            ]
          },
          "metadata": {
            "tags": []
          },
          "execution_count": 54
        }
      ]
    },
    {
      "cell_type": "markdown",
      "metadata": {
        "id": "nyjLVDMcOxJK"
      },
      "source": [
        "## Model Training"
      ]
    },
    {
      "cell_type": "markdown",
      "metadata": {
        "id": "qVNniBT-Gjn6"
      },
      "source": [
        "### Network\n",
        "\n",
        "Here use `Pytorch.NN` class to build up a Neural Network Model.\n",
        "\n",
        "This part will include:\n",
        "\n",
        "- Create Network with provided number of layers, neurons\n",
        "- Activation function\n",
        "- Loss function"
      ]
    },
    {
      "cell_type": "code",
      "metadata": {
        "id": "Ovj8xb4rGjUl"
      },
      "source": [
        "class Net(nn.Module):\n",
        "\n",
        "    def __init__(self, input_dim):\n",
        "        super().__init__()\n",
        "\n",
        "        # Hidden Layers, Neurons, Activation Func\n",
        "        self.net = nn.Sequential(\n",
        "            nn.Linear(input_dim, 32),\n",
        "            nn.ReLU(),\n",
        "            nn.Linear(32, 1)\n",
        "        )\n",
        "\n",
        "        # Loss function\n",
        "        self.criterion = nn.MSELoss()\n",
        "\n",
        "\n",
        "    def forward(self, x):\n",
        "        \n",
        "        return self.net(x).squeeze(1)\n",
        "\n",
        "\n",
        "    def cal_loss(self, pred, target):\n",
        "        '''\n",
        "        Calculate loss with L2-regularization.\n",
        "        Add L1-regularization for possible use.\n",
        "        '''\n",
        "        # L2\n",
        "        l2_lambda = 0.001\n",
        "        l2_reg = 0\n",
        "\n",
        "        # L1\n",
        "        # l1_lambda = 0.001\n",
        "        # l1_reg = 0\n",
        "        \n",
        "        for param in model.parameters():\n",
        "            l2_reg += torch.sum(param.pow(2))\n",
        "            # l1_reg += torch.sum(param.abs())\n",
        "\n",
        "        loss = self.criterion(pred, target) + l2_lambda * l2_reg\n",
        "        # loss += l1_lambda * l1_reg\n",
        "\n",
        "        return loss"
      ],
      "execution_count": 55,
      "outputs": []
    },
    {
      "cell_type": "markdown",
      "metadata": {
        "id": "cCBwcZsPOkTq"
      },
      "source": [
        "### Training\n",
        "\n",
        "This part provides the training code block"
      ]
    },
    {
      "cell_type": "code",
      "metadata": {
        "colab": {
          "base_uri": "https://localhost:8080/"
        },
        "id": "9VGACjgRZP0x",
        "outputId": "94e452ef-30fb-49fe-caf5-5bade2ab11ff"
      },
      "source": [
        "# First read data\n",
        "train_set = load('./covid.train.csv', 'train', 256, target_only=True)\n",
        "valid_set = load('./covid.train.csv', 'valid', 256, target_only=True)\n",
        "test_set = load('./covid.test.csv', 'test', 256, target_only=True)"
      ],
      "execution_count": 56,
      "outputs": [
        {
          "output_type": "stream",
          "text": [
            "Finished reading train set, ( 2430 obs.,  54 cols)\n",
            "Finished reading valid set, (  270 obs.,  54 cols)\n",
            "Finished reading test  set, (  893 obs.,  54 cols)\n"
          ],
          "name": "stdout"
        }
      ]
    },
    {
      "cell_type": "code",
      "metadata": {
        "colab": {
          "base_uri": "https://localhost:8080/",
          "height": 35
        },
        "id": "iygceuuhfdit",
        "outputId": "f88a69f7-74b7-4c2d-91a8-e45ce35bf7b2"
      },
      "source": [
        "def get_device():\n",
        "    return 'cuda' if torch.cuda.is_available() else 'gpu'\n",
        "\n",
        "get_device()"
      ],
      "execution_count": 57,
      "outputs": [
        {
          "output_type": "execute_result",
          "data": {
            "application/vnd.google.colaboratory.intrinsic+json": {
              "type": "string"
            },
            "text/plain": [
              "'cuda'"
            ]
          },
          "metadata": {
            "tags": []
          },
          "execution_count": 57
        }
      ]
    },
    {
      "cell_type": "code",
      "metadata": {
        "colab": {
          "base_uri": "https://localhost:8080/"
        },
        "id": "pKqnN_M7FWrH",
        "outputId": "e850c9fb-7753-4ee7-e414-5599bfd0383c"
      },
      "source": [
        "# setups\n",
        "n_epochs = 3000\n",
        "device = get_device()\n",
        "\n",
        "min_mse = 100\n",
        "loss_record = {\"train\":[], \"valid\":[]}\n",
        "early_stop = 300\n",
        "early_count = 0\n",
        "epoch = 0\n",
        "\n",
        "# initialize model and optimizer\n",
        "model = Net(train_set.dataset.dim).to(device)\n",
        "optimizer = torch.optim.Adam(model.parameters(), lr=0.001)\n",
        "\n",
        "\n",
        "while epoch < n_epochs:\n",
        "    \n",
        "    # Actual Training Part\n",
        "    model.train() # set to train mode\n",
        "\n",
        "    for x, y in train_set:\n",
        "\n",
        "        optimizer.zero_grad()               # remove previous gradient\n",
        "        x, y = x.to(device), y.to(device)\n",
        "        pred = model(x)                     # prediction\n",
        "        mse_loss = model.cal_loss(pred, y)\n",
        "        mse_loss.backward()                 # loss gradient\n",
        "        optimizer.step()                    # update weights\n",
        "\n",
        "        # track training loss, save into record\n",
        "        loss_record['train'].append(mse_loss.detach().cpu().item())\n",
        "\n",
        "\n",
        "    # Validation Part\n",
        "    model.eval()\n",
        "    val_loss = 0\n",
        "    for x, y in valid_set:\n",
        "        x, y = x.to(device), y.to(device)\n",
        "        \n",
        "        # stop calculating gradient when validating\n",
        "        with torch.no_grad():\n",
        "            pred = model(x)\n",
        "            val_mse_loss = model.cal_loss(pred, y)\n",
        "        val_loss += val_mse_loss.detach().cpu().item() * len(x)\n",
        "\n",
        "    val_mse = val_loss / len(valid_set.dataset)\n",
        "\n",
        "\n",
        "    # Early Stop\n",
        "\n",
        "    # if validation mse does not improve for n epochs\n",
        "    # then stop training to avoid overfitting.\n",
        "\n",
        "    if val_mse < min_mse:\n",
        "        \n",
        "        min_mse = val_mse\n",
        "        early_count = 0 # reset early count\n",
        "\n",
        "        torch.save(model.state_dict(), \"./model.pth\") # save best model\n",
        "\n",
        "        best_model = model\n",
        "\n",
        "        print(\"[{:4d}] \\t Train loss: {:.4f} \\t Val loss: {:.4f}\"\n",
        "        .format(epoch + 1, mse_loss, min_mse))\n",
        "    else:\n",
        "        early_count += 1\n",
        "\n",
        "    epoch += 1\n",
        "    loss_record['valid'].append(val_mse)\n",
        "\n",
        "    if early_count > early_stop:\n",
        "\n",
        "        break\n",
        "\n",
        "print(f'Finished training after {epoch} epochs')\n"
      ],
      "execution_count": 58,
      "outputs": [
        {
          "output_type": "stream",
          "text": [
            "[   2] \t Train loss: 84.9418 \t Val loss: 87.8652\n",
            "[   3] \t Train loss: 49.7733 \t Val loss: 34.8438\n",
            "[   4] \t Train loss: 14.3629 \t Val loss: 13.8584\n",
            "[   5] \t Train loss: 14.5645 \t Val loss: 12.3249\n",
            "[   8] \t Train loss: 8.9651 \t Val loss: 11.7077\n",
            "[   9] \t Train loss: 8.8233 \t Val loss: 11.2547\n",
            "[  10] \t Train loss: 11.7360 \t Val loss: 11.0211\n",
            "[  11] \t Train loss: 10.4217 \t Val loss: 10.8954\n",
            "[  12] \t Train loss: 11.8949 \t Val loss: 10.7398\n",
            "[  13] \t Train loss: 10.6689 \t Val loss: 10.5632\n",
            "[  14] \t Train loss: 12.7702 \t Val loss: 10.3985\n",
            "[  15] \t Train loss: 11.2572 \t Val loss: 10.2039\n",
            "[  16] \t Train loss: 9.7314 \t Val loss: 9.9899\n",
            "[  17] \t Train loss: 13.5014 \t Val loss: 9.7611\n",
            "[  18] \t Train loss: 10.7871 \t Val loss: 9.4465\n",
            "[  19] \t Train loss: 10.8309 \t Val loss: 9.0329\n",
            "[  20] \t Train loss: 8.8788 \t Val loss: 8.5926\n",
            "[  21] \t Train loss: 10.0940 \t Val loss: 8.0917\n",
            "[  22] \t Train loss: 10.2988 \t Val loss: 7.5500\n",
            "[  23] \t Train loss: 5.8079 \t Val loss: 6.9787\n",
            "[  24] \t Train loss: 5.8819 \t Val loss: 6.3401\n",
            "[  25] \t Train loss: 5.1878 \t Val loss: 5.8236\n",
            "[  26] \t Train loss: 6.9163 \t Val loss: 5.2060\n",
            "[  27] \t Train loss: 5.3550 \t Val loss: 4.6960\n",
            "[  28] \t Train loss: 6.0348 \t Val loss: 4.1482\n",
            "[  29] \t Train loss: 3.0435 \t Val loss: 3.7139\n",
            "[  30] \t Train loss: 3.9305 \t Val loss: 3.2893\n",
            "[  31] \t Train loss: 2.6087 \t Val loss: 2.8852\n",
            "[  32] \t Train loss: 2.4084 \t Val loss: 2.6140\n",
            "[  33] \t Train loss: 2.5457 \t Val loss: 2.2772\n",
            "[  34] \t Train loss: 2.4895 \t Val loss: 2.0643\n",
            "[  35] \t Train loss: 2.3073 \t Val loss: 1.8297\n",
            "[  36] \t Train loss: 1.7252 \t Val loss: 1.7290\n",
            "[  37] \t Train loss: 1.6188 \t Val loss: 1.5720\n",
            "[  38] \t Train loss: 1.4700 \t Val loss: 1.4349\n",
            "[  39] \t Train loss: 1.4397 \t Val loss: 1.3858\n",
            "[  40] \t Train loss: 1.9324 \t Val loss: 1.2991\n",
            "[  41] \t Train loss: 1.5557 \t Val loss: 1.2431\n",
            "[  42] \t Train loss: 1.8325 \t Val loss: 1.2401\n",
            "[  43] \t Train loss: 1.1473 \t Val loss: 1.1724\n",
            "[  45] \t Train loss: 1.3672 \t Val loss: 1.1394\n",
            "[  46] \t Train loss: 1.2722 \t Val loss: 1.1229\n",
            "[  49] \t Train loss: 1.2803 \t Val loss: 1.0972\n",
            "[  51] \t Train loss: 1.2266 \t Val loss: 1.0940\n",
            "[  52] \t Train loss: 1.1885 \t Val loss: 1.0901\n",
            "[  53] \t Train loss: 1.3480 \t Val loss: 1.0842\n",
            "[  55] \t Train loss: 1.1291 \t Val loss: 1.0695\n",
            "[  57] \t Train loss: 1.2526 \t Val loss: 1.0619\n",
            "[  59] \t Train loss: 1.4793 \t Val loss: 1.0606\n",
            "[  60] \t Train loss: 0.8139 \t Val loss: 1.0525\n",
            "[  63] \t Train loss: 1.0061 \t Val loss: 1.0440\n",
            "[  65] \t Train loss: 1.0771 \t Val loss: 1.0437\n",
            "[  68] \t Train loss: 1.0420 \t Val loss: 1.0352\n",
            "[  69] \t Train loss: 1.1178 \t Val loss: 1.0283\n",
            "[  70] \t Train loss: 1.4665 \t Val loss: 1.0269\n",
            "[  75] \t Train loss: 1.1366 \t Val loss: 1.0234\n",
            "[  77] \t Train loss: 1.1757 \t Val loss: 1.0168\n",
            "[  79] \t Train loss: 0.9825 \t Val loss: 1.0128\n",
            "[  81] \t Train loss: 0.8903 \t Val loss: 1.0056\n",
            "[  82] \t Train loss: 1.2087 \t Val loss: 1.0052\n",
            "[  83] \t Train loss: 1.1750 \t Val loss: 1.0024\n",
            "[  87] \t Train loss: 1.4268 \t Val loss: 0.9964\n",
            "[  90] \t Train loss: 0.9327 \t Val loss: 0.9907\n",
            "[  93] \t Train loss: 1.0042 \t Val loss: 0.9859\n",
            "[  96] \t Train loss: 1.4372 \t Val loss: 0.9839\n",
            "[  97] \t Train loss: 1.0917 \t Val loss: 0.9808\n",
            "[  99] \t Train loss: 1.0933 \t Val loss: 0.9784\n",
            "[ 103] \t Train loss: 1.1893 \t Val loss: 0.9739\n",
            "[ 106] \t Train loss: 1.0953 \t Val loss: 0.9714\n",
            "[ 113] \t Train loss: 1.2341 \t Val loss: 0.9635\n",
            "[ 116] \t Train loss: 1.9288 \t Val loss: 0.9596\n",
            "[ 117] \t Train loss: 1.0505 \t Val loss: 0.9591\n",
            "[ 119] \t Train loss: 1.3506 \t Val loss: 0.9574\n",
            "[ 122] \t Train loss: 1.0613 \t Val loss: 0.9537\n",
            "[ 127] \t Train loss: 1.3824 \t Val loss: 0.9529\n",
            "[ 129] \t Train loss: 1.2435 \t Val loss: 0.9479\n",
            "[ 130] \t Train loss: 0.8831 \t Val loss: 0.9477\n",
            "[ 133] \t Train loss: 1.6031 \t Val loss: 0.9438\n",
            "[ 135] \t Train loss: 1.1175 \t Val loss: 0.9419\n",
            "[ 139] \t Train loss: 0.9399 \t Val loss: 0.9403\n",
            "[ 141] \t Train loss: 1.0970 \t Val loss: 0.9386\n",
            "[ 143] \t Train loss: 1.3384 \t Val loss: 0.9360\n",
            "[ 144] \t Train loss: 1.2314 \t Val loss: 0.9355\n",
            "[ 147] \t Train loss: 1.2672 \t Val loss: 0.9332\n",
            "[ 154] \t Train loss: 1.0833 \t Val loss: 0.9281\n",
            "[ 163] \t Train loss: 1.3915 \t Val loss: 0.9263\n",
            "[ 164] \t Train loss: 0.8206 \t Val loss: 0.9207\n",
            "[ 170] \t Train loss: 1.3366 \t Val loss: 0.9174\n",
            "[ 174] \t Train loss: 1.3527 \t Val loss: 0.9149\n",
            "[ 178] \t Train loss: 1.0682 \t Val loss: 0.9131\n",
            "[ 182] \t Train loss: 1.2360 \t Val loss: 0.9097\n",
            "[ 185] \t Train loss: 0.8781 \t Val loss: 0.9079\n",
            "[ 189] \t Train loss: 0.9105 \t Val loss: 0.9073\n",
            "[ 190] \t Train loss: 0.9114 \t Val loss: 0.9066\n",
            "[ 196] \t Train loss: 0.9309 \t Val loss: 0.9025\n",
            "[ 197] \t Train loss: 1.0188 \t Val loss: 0.9016\n",
            "[ 198] \t Train loss: 1.2547 \t Val loss: 0.9008\n",
            "[ 204] \t Train loss: 1.3075 \t Val loss: 0.8989\n",
            "[ 206] \t Train loss: 0.7896 \t Val loss: 0.8981\n",
            "[ 211] \t Train loss: 1.2794 \t Val loss: 0.8957\n",
            "[ 216] \t Train loss: 1.0964 \t Val loss: 0.8920\n",
            "[ 220] \t Train loss: 0.6952 \t Val loss: 0.8901\n",
            "[ 226] \t Train loss: 1.0107 \t Val loss: 0.8880\n",
            "[ 234] \t Train loss: 0.9532 \t Val loss: 0.8855\n",
            "[ 235] \t Train loss: 1.0146 \t Val loss: 0.8843\n",
            "[ 240] \t Train loss: 0.8815 \t Val loss: 0.8812\n",
            "[ 242] \t Train loss: 1.1216 \t Val loss: 0.8804\n",
            "[ 244] \t Train loss: 0.9250 \t Val loss: 0.8802\n",
            "[ 247] \t Train loss: 1.0953 \t Val loss: 0.8787\n",
            "[ 248] \t Train loss: 0.8922 \t Val loss: 0.8785\n",
            "[ 250] \t Train loss: 0.8048 \t Val loss: 0.8776\n",
            "[ 251] \t Train loss: 1.0596 \t Val loss: 0.8766\n",
            "[ 260] \t Train loss: 0.8516 \t Val loss: 0.8737\n",
            "[ 263] \t Train loss: 0.7590 \t Val loss: 0.8725\n",
            "[ 267] \t Train loss: 1.2737 \t Val loss: 0.8713\n",
            "[ 275] \t Train loss: 1.0061 \t Val loss: 0.8677\n",
            "[ 276] \t Train loss: 0.9843 \t Val loss: 0.8674\n",
            "[ 279] \t Train loss: 1.4798 \t Val loss: 0.8661\n",
            "[ 285] \t Train loss: 0.8765 \t Val loss: 0.8654\n",
            "[ 291] \t Train loss: 1.0511 \t Val loss: 0.8633\n",
            "[ 292] \t Train loss: 0.8242 \t Val loss: 0.8626\n",
            "[ 315] \t Train loss: 0.8920 \t Val loss: 0.8564\n",
            "[ 320] \t Train loss: 0.7683 \t Val loss: 0.8548\n",
            "[ 324] \t Train loss: 0.8502 \t Val loss: 0.8537\n",
            "[ 326] \t Train loss: 1.3506 \t Val loss: 0.8532\n",
            "[ 328] \t Train loss: 0.9506 \t Val loss: 0.8530\n",
            "[ 333] \t Train loss: 1.1660 \t Val loss: 0.8526\n",
            "[ 345] \t Train loss: 1.3638 \t Val loss: 0.8496\n",
            "[ 349] \t Train loss: 0.9368 \t Val loss: 0.8493\n",
            "[ 353] \t Train loss: 0.8655 \t Val loss: 0.8483\n",
            "[ 357] \t Train loss: 0.9750 \t Val loss: 0.8474\n",
            "[ 362] \t Train loss: 0.8326 \t Val loss: 0.8472\n",
            "[ 363] \t Train loss: 1.3092 \t Val loss: 0.8463\n",
            "[ 370] \t Train loss: 0.9409 \t Val loss: 0.8454\n",
            "[ 377] \t Train loss: 0.8949 \t Val loss: 0.8452\n",
            "[ 385] \t Train loss: 0.7220 \t Val loss: 0.8440\n",
            "[ 387] \t Train loss: 0.7440 \t Val loss: 0.8436\n",
            "[ 388] \t Train loss: 0.8136 \t Val loss: 0.8436\n",
            "[ 389] \t Train loss: 1.0374 \t Val loss: 0.8434\n",
            "[ 392] \t Train loss: 0.7681 \t Val loss: 0.8427\n",
            "[ 394] \t Train loss: 0.9566 \t Val loss: 0.8424\n",
            "[ 411] \t Train loss: 0.7460 \t Val loss: 0.8420\n",
            "[ 417] \t Train loss: 0.9145 \t Val loss: 0.8416\n",
            "[ 418] \t Train loss: 1.4712 \t Val loss: 0.8398\n",
            "[ 421] \t Train loss: 0.9908 \t Val loss: 0.8397\n",
            "[ 430] \t Train loss: 0.6518 \t Val loss: 0.8378\n",
            "[ 436] \t Train loss: 0.7309 \t Val loss: 0.8378\n",
            "[ 437] \t Train loss: 0.9186 \t Val loss: 0.8374\n",
            "[ 448] \t Train loss: 0.9634 \t Val loss: 0.8360\n",
            "[ 456] \t Train loss: 0.9860 \t Val loss: 0.8352\n",
            "[ 490] \t Train loss: 1.0677 \t Val loss: 0.8351\n",
            "[ 499] \t Train loss: 1.1318 \t Val loss: 0.8347\n",
            "[ 506] \t Train loss: 1.1571 \t Val loss: 0.8345\n",
            "[ 509] \t Train loss: 0.8996 \t Val loss: 0.8340\n",
            "[ 510] \t Train loss: 1.0843 \t Val loss: 0.8339\n",
            "[ 536] \t Train loss: 0.7492 \t Val loss: 0.8339\n",
            "[ 566] \t Train loss: 0.8881 \t Val loss: 0.8335\n",
            "[ 591] \t Train loss: 0.9438 \t Val loss: 0.8333\n",
            "[ 634] \t Train loss: 0.7744 \t Val loss: 0.8332\n",
            "[ 649] \t Train loss: 0.7711 \t Val loss: 0.8321\n",
            "[ 683] \t Train loss: 1.0071 \t Val loss: 0.8318\n",
            "[ 766] \t Train loss: 1.1149 \t Val loss: 0.8316\n",
            "[ 777] \t Train loss: 1.3953 \t Val loss: 0.8312\n",
            "Finished training after 1078 epochs\n"
          ],
          "name": "stdout"
        }
      ]
    },
    {
      "cell_type": "markdown",
      "metadata": {
        "id": "m60PkrF0tbOa"
      },
      "source": [
        "## Visualization\n",
        "\n"
      ]
    },
    {
      "cell_type": "code",
      "metadata": {
        "id": "t_8RV9TDtVmx",
        "colab": {
          "base_uri": "https://localhost:8080/",
          "height": 295
        },
        "outputId": "0fa62c90-31a4-441b-8c87-850b63ea15e8"
      },
      "source": [
        "def plot_learning_curve(loss_record):\n",
        "    ''' Plot learning curve of your DNN (train & dev loss) '''\n",
        "    total_steps = len(loss_record['train'])\n",
        "    x_1 = range(total_steps)\n",
        "    x_2 = x_1[::len(loss_record['train']) // len(loss_record['valid'])]\n",
        "    figure(figsize=(6, 4))\n",
        "    plt.plot(x_1, loss_record['train'], c='tab:red', label='train')\n",
        "    plt.plot(x_2, loss_record['valid'], c='tab:cyan', label='val')\n",
        "    plt.ylim(0.0, 5.)\n",
        "    # plt.xlim(11000, 11600)\n",
        "    plt.xlabel('Training steps')\n",
        "    plt.ylabel('MSE loss')\n",
        "    plt.title('Learning curve')\n",
        "    plt.legend()\n",
        "    plt.show()\n",
        "\n",
        "\n",
        "def plot_pred(dv_set, model, device, lim=35., preds=None, targets=None):\n",
        "    ''' Plot prediction of your DNN '''\n",
        "    if preds is None or targets is None:\n",
        "        model.eval()\n",
        "        preds, targets = [], []\n",
        "        for x, y in dv_set:\n",
        "            x, y = x.to(device), y.to(device)\n",
        "            with torch.no_grad():\n",
        "                pred = model(x)\n",
        "                preds.append(pred.detach().cpu())\n",
        "                targets.append(y.detach().cpu())\n",
        "        preds = torch.cat(preds, dim=0).numpy()\n",
        "        targets = torch.cat(targets, dim=0).numpy()\n",
        "\n",
        "    figure(figsize=(5, 5))\n",
        "    plt.scatter(targets, preds, c='r', alpha=0.5)\n",
        "    plt.plot([-0.2, lim], [-0.2, lim], c='b')\n",
        "    plt.xlim(-0.2, lim)\n",
        "    plt.ylim(-0.2, lim)\n",
        "    plt.xlabel('ground truth value')\n",
        "    plt.ylabel('predicted value')\n",
        "    plt.title('Ground Truth v.s. Prediction')\n",
        "    plt.show()\n",
        "\n",
        "\n",
        "plot_learning_curve(loss_record)"
      ],
      "execution_count": 59,
      "outputs": [
        {
          "output_type": "display_data",
          "data": {
            "image/png": "[encoded data removed]",
            "text/plain": [
              "<Figure size 432x288 with 1 Axes>"
            ]
          },
          "metadata": {
            "tags": [],
            "needs_background": "light"
          }
        }
      ]
    },
    {
      "cell_type": "markdown",
      "metadata": {
        "id": "3mclnYfuehwU"
      },
      "source": [
        "## Prediction\n",
        "\n",
        "This block predicts the value for testing set `test_set`"
      ]
    },
    {
      "cell_type": "code",
      "metadata": {
        "id": "8uXEo7ZtetDx"
      },
      "source": [
        "# delete the last (but not always the best) model\n",
        "del model\n",
        "\n",
        "# initialize model\n",
        "model = Net(train_set.dataset.dim).to(device)\n",
        "\n",
        "# load the best model save in \"./model.pth\"\n",
        "model.load_state_dict(torch.load('./model.pth', map_location='cpu'))\n",
        "\n",
        "# predicting\n",
        "model.eval()\n",
        "preds = []\n",
        "\n",
        "for x in test_set:\n",
        "    x = x.to(device)\n",
        "    with torch.no_grad():\n",
        "        pred = model(x)\n",
        "        preds.append(pred.detach().cpu())\n",
        "\n",
        "preds = torch.cat(preds, dim=0).numpy()"
      ],
      "execution_count": 60,
      "outputs": []
    },
    {
      "cell_type": "code",
      "metadata": {
        "colab": {
          "base_uri": "https://localhost:8080/",
          "height": 350
        },
        "id": "p7tlKYmmgWbR",
        "outputId": "ca096645-1a72-4d7e-e5fe-fe35ef9a07b6"
      },
      "source": [
        "plot_pred(valid_set, model, device)"
      ],
      "execution_count": 61,
      "outputs": [
        {
          "output_type": "display_data",
          "data": {
            "image/png": "[encoded data removed]",
            "text/plain": [
              "<Figure size 360x360 with 1 Axes>"
            ]
          },
          "metadata": {
            "tags": [],
            "needs_background": "light"
          }
        }
      ]
    },
    {
      "cell_type": "markdown",
      "metadata": {
        "id": "uiU0Hk2UfFz3"
      },
      "source": [
        "## Saving results\n",
        "Save the prediction to `pred.csv`"
      ]
    },
    {
      "cell_type": "code",
      "metadata": {
        "colab": {
          "base_uri": "https://localhost:8080/"
        },
        "id": "znrQRSwWfFIj",
        "outputId": "a493d58e-58c1-4d3b-e71e-e05ad171a0a8"
      },
      "source": [
        "def save_pred(preds, file):\n",
        "    ''' Save predictions to specified file '''\n",
        "    print('Saving results to {}'.format(file))\n",
        "    with open(file, 'w') as fout:\n",
        "        writer = csv.writer(fout)\n",
        "        writer.writerow(['id', 'tested_positive'])\n",
        "        for i, p in enumerate(preds):\n",
        "            writer.writerow([i, p])\n",
        "\n",
        "# preds = test(tt_set, model, device)  # predict COVID-19 cases with your model\n",
        "save_pred(preds, 'pred.csv') "
      ],
      "execution_count": 62,
      "outputs": [
        {
          "output_type": "stream",
          "text": [
            "Saving results to pred.csv\n"
          ],
          "name": "stdout"
        }
      ]
    },
    {
      "cell_type": "markdown",
      "metadata": {
        "id": "FEuNhKMArcP7"
      },
      "source": [
        "# Appendix\n",
        "\n",
        "## Choose features \n",
        "\n",
        "I check the correlation matrix to have columns having high correlation with the target, the positive cases in the third day."
      ]
    },
    {
      "cell_type": "code",
      "metadata": {
        "id": "xNVP_bKeiqeB"
      },
      "source": [
        "with open('./covid.train.csv', 'r') as fin:\n",
        "    data = list(csv.reader(fin))\n",
        "    data = np.array(data[1:])[:, 1:].astype(float) # convert\n",
        "    "
      ],
      "execution_count": 63,
      "outputs": []
    },
    {
      "cell_type": "code",
      "metadata": {
        "id": "13TQhm3kjaIo"
      },
      "source": [
        "cor_vec   = np.corrcoef(data, rowvar=False)[:, -1]\n",
        "high_cols = np.where(cor_vec > 0.75)"
      ],
      "execution_count": 64,
      "outputs": []
    },
    {
      "cell_type": "code",
      "metadata": {
        "colab": {
          "base_uri": "https://localhost:8080/"
        },
        "id": "DBmx1sxWnqs_",
        "outputId": "393edde6-afb5-4002-cc7b-601a22b80a64"
      },
      "source": [
        "high_cols"
      ],
      "execution_count": 65,
      "outputs": [
        {
          "output_type": "execute_result",
          "data": {
            "text/plain": [
              "(array([40, 41, 42, 43, 57, 58, 59, 60, 61, 75, 76, 77, 78, 79, 93]),)"
            ]
          },
          "metadata": {
            "tags": []
          },
          "execution_count": 65
        }
      ]
    },
    {
      "cell_type": "code",
      "metadata": {
        "colab": {
          "base_uri": "https://localhost:8080/"
        },
        "id": "xVD7o5Lgnv7_",
        "outputId": "90c1a3b8-d229-4b92-ab58-3278efe2100e"
      },
      "source": [
        "cor_vec"
      ],
      "execution_count": 66,
      "outputs": [
        {
          "output_type": "execute_result",
          "data": {
            "text/plain": [
              "array([ 0.06347943, -0.1526818 , -0.16209655,  0.03070594, -0.20829081,\n",
              "       -0.13146005, -0.22702296, -0.12083396, -0.05194778,  0.17536543,\n",
              "       -0.0376707 , -0.02187608,  0.1239483 ,  0.08296595, -0.12546823,\n",
              "       -0.00658784, -0.20925335, -0.2661426 , -0.10064945, -0.06410969,\n",
              "        0.23968949,  0.17028676,  0.15800597,  0.17623299, -0.05649202,\n",
              "        0.00211599, -0.11825057,  0.03263958,  0.18216512,  0.23714868,\n",
              "       -0.10559856,  0.15116821, -0.08190996,  0.07478468,  0.15747721,\n",
              "        0.16561899,  0.0554743 , -0.11348231,  0.05894526,  0.01346946,\n",
              "        0.8385042 ,  0.83052714,  0.87972361,  0.86993839, -0.06953061,\n",
              "       -0.09730256,  0.03486457, -0.41042975, -0.15794454, -0.2521246 ,\n",
              "       -0.052473  , -0.44836029,  0.17329459,  0.03768912,  0.08218167,\n",
              "        0.26221095,  0.47546201,  0.98116473,  0.83822394,  0.82919959,\n",
              "        0.87943787,  0.86927771, -0.06560047, -0.10040736,  0.03792996,\n",
              "       -0.4127048 , -0.15912122, -0.25571351, -0.05807917, -0.44907896,\n",
              "        0.16453667,  0.03314897,  0.08152126,  0.26481599,  0.48095814,\n",
              "        0.99101207,  0.8357514 ,  0.82607473,  0.87821767,  0.86753515,\n",
              "       -0.0620368 , -0.10386768,  0.03930435, -0.41512978, -0.16018061,\n",
              "       -0.25895551, -0.06370887, -0.45043553,  0.15290336,  0.02957837,\n",
              "        0.08117421,  0.26761022,  0.48584275,  1.        ])"
            ]
          },
          "metadata": {
            "tags": []
          },
          "execution_count": 66
        }
      ]
    }
  ]
}